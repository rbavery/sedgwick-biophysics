{
 "cells": [
  {
   "cell_type": "markdown",
   "metadata": {},
   "source": [
    "## Importing python libraries, which contain functions we will use to run our statistics, make plots, etc."
   ]
  },
  {
   "cell_type": "code",
   "execution_count": 1,
   "metadata": {},
   "outputs": [
    {
     "name": "stderr",
     "output_type": "stream",
     "text": [
      "/home/rave/anaconda3/envs/geo/lib/python3.6/site-packages/pysal/__init__.py:65: VisibleDeprecationWarning: PySAL's API will be changed on 2018-12-31. The last release made with this API is version 1.14.4. A preview of the next API version is provided in the `pysal` 2.0 prelease candidate. The API changes and a guide on how to change imports is provided at https://pysal.org/about\n",
      "  ), VisibleDeprecationWarning)\n"
     ]
    }
   ],
   "source": [
    "import scipy\n",
    "import numpy as np\n",
    "import pandas as pd\n",
    "import matplotlib.pyplot as plt\n",
    "import statsmodels as sm\n",
    "import os\n",
    "import pysal"
   ]
  },
  {
   "cell_type": "code",
   "execution_count": 347,
   "metadata": {},
   "outputs": [
    {
     "data": {
      "text/plain": [
       "float"
      ]
     },
     "execution_count": 347,
     "metadata": {},
     "output_type": "execute_result"
    }
   ],
   "source": [
    "type(3.0)"
   ]
  },
  {
   "cell_type": "code",
   "execution_count": 348,
   "metadata": {},
   "outputs": [
    {
     "data": {
      "text/plain": [
       "str"
      ]
     },
     "execution_count": 348,
     "metadata": {},
     "output_type": "execute_result"
    }
   ],
   "source": [
    "type(\"3\")"
   ]
  },
  {
   "cell_type": "code",
   "execution_count": 349,
   "metadata": {},
   "outputs": [],
   "source": [
    "north_slope_soil_moisture = pd.read_excel(\"3-26SoilMoistureHillslope/Soil Moisture Hillslope.xlsx\")"
   ]
  },
  {
   "cell_type": "code",
   "execution_count": 352,
   "metadata": {},
   "outputs": [
    {
     "data": {
      "text/plain": [
       "<matplotlib.axes._subplots.AxesSubplot at 0x7f4a9fae4710>"
      ]
     },
     "execution_count": 352,
     "metadata": {},
     "output_type": "execute_result"
    },
    {
     "data": {
      "image/png": "[encoded data removed]",
      "text/plain": [
       "<Figure size 432x288 with 1 Axes>"
      ]
     },
     "metadata": {
      "needs_background": "light"
     },
     "output_type": "display_data"
    }
   ],
   "source": [
    "north_slope_soil_moisture.plot(x=\"Distance (m)\", y=\"Soil Moisture ()\")"
   ]
  },
  {
   "cell_type": "code",
   "execution_count": 3,
   "metadata": {},
   "outputs": [],
   "source": [
    "distance_meters = np.array(north_slope_soil_moisture['Distance (m)'])"
   ]
  },
  {
   "cell_type": "code",
   "execution_count": 4,
   "metadata": {},
   "outputs": [
    {
     "data": {
      "text/plain": [
       "array([[ 0.  ,  0.4 ,  1.05, ..., 97.5 , 97.7 , 99.5 ],\n",
       "       [ 0.4 ,  0.  ,  0.65, ..., 97.1 , 97.3 , 99.1 ],\n",
       "       [ 1.05,  0.65,  0.  , ..., 96.45, 96.65, 98.45],\n",
       "       ...,\n",
       "       [97.5 , 97.1 , 96.45, ...,  0.  ,  0.2 ,  2.  ],\n",
       "       [97.7 , 97.3 , 96.65, ...,  0.2 ,  0.  ,  1.8 ],\n",
       "       [99.5 , 99.1 , 98.45, ...,  2.  ,  1.8 ,  0.  ]])"
      ]
     },
     "execution_count": 4,
     "metadata": {},
     "output_type": "execute_result"
    }
   ],
   "source": [
    "def distance_matrix_2D(x_distances, y_distances):\n",
    "    \n",
    "    row_arr_x = np.tile(x_distances, (len(x_distances),1))\n",
    "    col_arr_x = row_arr_x.T\n",
    "    \n",
    "    row_arr_y = np.tile(y_distances, (len(y_distances),1))\n",
    "    col_arr_y = row_arr_y.T\n",
    "    \n",
    "    return np.sqrt((row_arr_x-col_arr_x)**2+(row_arr_y-col_arr_y)**2)\n",
    "\n",
    "distance_matrix = distance_matrix_2D(distance_meters, np.zeros(distance_meters.shape))\n",
    "distance_matrix"
   ]
  },
  {
   "cell_type": "code",
   "execution_count": null,
   "metadata": {},
   "outputs": [],
   "source": [
    "import sys\n",
    "np.set_printoptions(threshold=sys.maxsize)"
   ]
  },
  {
   "cell_type": "code",
   "execution_count": 195,
   "metadata": {},
   "outputs": [],
   "source": [
    "distance, distance_threshold = 1, .1\n",
    "\n",
    "measure_arr = np.array(north_slope_soil_moisture['Soil Moisture ()'])\n",
    "row_arr = np.tile(measure_arr, (len(measure_arr),1))\n",
    "col_arr = row_arr.T\n",
    "\n",
    "tril_distance_arr = np.tril(distance_matrix)\n",
    "cond = np.logical_and(((distance-distance_threshold) < tril_distance_arr), (tril_distance_arr < (distance+distance_threshold)))\n",
    "\n",
    "col_vals = np.where(cond, col_arr, np.nan)\n",
    "row_vals = np.where(cond, row_arr, np.nan)\n"
   ]
  },
  {
   "cell_type": "code",
   "execution_count": 196,
   "metadata": {},
   "outputs": [
    {
     "data": {
      "text/plain": [
       "19"
      ]
     },
     "execution_count": 196,
     "metadata": {},
     "output_type": "execute_result"
    }
   ],
   "source": [
    "np.count_nonzero(~np.isnan(col_vals))"
   ]
  },
  {
   "cell_type": "code",
   "execution_count": 197,
   "metadata": {},
   "outputs": [
    {
     "data": {
      "text/plain": [
       "19"
      ]
     },
     "execution_count": 197,
     "metadata": {},
     "output_type": "execute_result"
    }
   ],
   "source": [
    "np.count_nonzero(~np.isnan(row_vals))"
   ]
  },
  {
   "cell_type": "code",
   "execution_count": 203,
   "metadata": {},
   "outputs": [
    {
     "data": {
      "text/plain": [
       "(100, 100)"
      ]
     },
     "execution_count": 203,
     "metadata": {},
     "output_type": "execute_result"
    }
   ],
   "source": [
    "col_vals.shape"
   ]
  },
  {
   "cell_type": "markdown",
   "metadata": {},
   "source": [
    "non nan indices of col array"
   ]
  },
  {
   "cell_type": "code",
   "execution_count": 209,
   "metadata": {},
   "outputs": [
    {
     "data": {
      "text/plain": [
       "array([ 2,  3,  7,  8,  9, 10, 11, 16, 18, 19, 29, 57, 58, 63, 77, 82, 87,\n",
       "       94, 98])"
      ]
     },
     "execution_count": 209,
     "metadata": {},
     "output_type": "execute_result"
    }
   ],
   "source": [
    "np.indices(col_vals.shape)[0][~np.isnan(col_vals)]"
   ]
  },
  {
   "cell_type": "code",
   "execution_count": 212,
   "metadata": {},
   "outputs": [],
   "source": [
    "product = col_vals*row_vals"
   ]
  },
  {
   "cell_type": "code",
   "execution_count": 213,
   "metadata": {},
   "outputs": [
    {
     "data": {
      "text/plain": [
       "array([ 2,  3,  7,  8,  9, 10, 11, 16, 18, 19, 29, 57, 58, 63, 77, 82, 87,\n",
       "       94, 98])"
      ]
     },
     "execution_count": 213,
     "metadata": {},
     "output_type": "execute_result"
    }
   ],
   "source": [
    "np.indices(product.shape)[0][~np.isnan(product)]"
   ]
  },
  {
   "cell_type": "code",
   "execution_count": 210,
   "metadata": {},
   "outputs": [
    {
     "data": {
      "text/plain": [
       "array([ 2,  3,  7,  8,  9, 10, 11, 16, 18, 19, 29, 57, 58, 63, 77, 82, 87,\n",
       "       94, 98])"
      ]
     },
     "execution_count": 210,
     "metadata": {},
     "output_type": "execute_result"
    }
   ],
   "source": [
    "np.indices(row_vals.shape)[0][~np.isnan(row_vals)]"
   ]
  },
  {
   "cell_type": "code",
   "execution_count": 227,
   "metadata": {},
   "outputs": [
    {
     "data": {
      "text/plain": [
       "array([0.33955197, 0.44282337, 0.33570932, 0.379838  , 0.90108258,\n",
       "       0.67130603, 0.09170483, 0.27511348, 0.8105893 , 0.99835368,\n",
       "       0.97972664, 0.75428939, 0.94610197, 0.00879478, 0.03161444,\n",
       "       0.34967873, 0.21742107, 0.80703777, 0.34729245, 0.92180236,\n",
       "       0.62890055, 0.04986362, 0.58888424, 0.21897008, 0.09987382,\n",
       "       0.9890097 , 0.17179158, 0.73538754, 0.1278312 , 0.03631726,\n",
       "       0.56926201, 0.12998837, 0.62639251, 0.46417776, 0.82944013,\n",
       "       0.60789874, 0.32822497, 0.58186373, 0.87153171, 0.16206487,\n",
       "       0.62607872, 0.29861712, 0.2720944 , 0.24926805, 0.14576831,\n",
       "       0.43047884, 0.31014809, 0.88275915, 0.1341702 , 0.84499868,\n",
       "       0.53615171, 0.32143876, 0.29672428, 0.70269444, 0.49766007,\n",
       "       0.81387163, 0.83686947, 0.26867821, 0.46945403, 0.98855641,\n",
       "       0.42736608, 0.57391128, 0.90481601, 0.17271203, 0.21488678,\n",
       "       0.68240094, 0.50675063, 0.45568994, 0.88409078, 0.87097839,\n",
       "       0.64025023, 0.61578778, 0.64351705, 0.45401877, 0.53135235,\n",
       "       0.51955291, 0.63090883, 0.05020149, 0.36777161, 0.96306248,\n",
       "       0.52557461, 0.10059935, 0.00381186, 0.6448272 , 0.35891036,\n",
       "       0.81897401, 0.61108942, 0.03115754, 0.69112697, 0.81141054,\n",
       "       0.88958677, 0.11226594, 0.94870007, 0.92698794, 0.55334582,\n",
       "       0.29730143, 0.4712518 , 0.41730928, 0.38342203, 0.38883869])"
      ]
     },
     "execution_count": 227,
     "metadata": {},
     "output_type": "execute_result"
    }
   ],
   "source": []
  },
  {
   "cell_type": "code",
   "execution_count": 263,
   "metadata": {},
   "outputs": [
    {
     "name": "stdout",
     "output_type": "stream",
     "text": [
      "# values used for correlation 16\n"
     ]
    },
    {
     "data": {
      "text/plain": [
       "0.25087572397942604"
      ]
     },
     "execution_count": 263,
     "metadata": {},
     "output_type": "execute_result"
    }
   ],
   "source": [
    "def single_lag_correlation(distance_arr, measure_arr, distance, distance_thresh):\n",
    "    \"\"\"\n",
    "    Takes a 2D distance matrix that has the distances between each measurement\n",
    "    and a 1D array of the measurements. Distance is the center distance to correlate\n",
    "    on and the threshold is the range of distances from the center distance to use for \n",
    "    the correlation.\n",
    "    \"\"\"\n",
    "    \n",
    "    row_arr = np.tile(measure_arr, (len(measure_arr),1))\n",
    "    col_arr = row_arr.T\n",
    "    \n",
    "    tril_distance_arr = np.tril(distance_arr)\n",
    "    cond = np.logical_and(((distance-distance_thresh) < tril_distance_arr), (tril_distance_arr < (distance+distance_thresh)))\n",
    "\n",
    "    col_vals = np.where(cond, col_arr, np.nan)\n",
    "    row_vals = np.where(cond, row_arr, np.nan)\n",
    "    \n",
    "    covariance = (np.nanmean((col_vals - np.nanmean(col_vals)) * (row_vals - np.nanmean(row_vals))))\n",
    "    print(\"# values used for correlation \" + str(np.count_nonzero(~np.isnan(col_vals))))\n",
    "    return covariance/(np.nanstd(col_vals)*np.nanstd(row_vals))\n",
    "    \n",
    "single_lag_correlation(distance_matrix, np.array(north_slope_soil_moisture['Soil Moisture ()']), 10, .10)  \n",
    "    \n"
   ]
  },
  {
   "cell_type": "code",
   "execution_count": 337,
   "metadata": {},
   "outputs": [],
   "source": []
  },
  {
   "cell_type": "code",
   "execution_count": 338,
   "metadata": {},
   "outputs": [
    {
     "data": {
      "text/plain": [
       "100"
      ]
     },
     "execution_count": 338,
     "metadata": {},
     "output_type": "execute_result"
    }
   ],
   "source": [
    "len(sin_arr)"
   ]
  },
  {
   "cell_type": "code",
   "execution_count": 354,
   "metadata": {},
   "outputs": [
    {
     "data": {
      "text/plain": [
       "[<matplotlib.lines.Line2D at 0x7f4aa4eda048>]"
      ]
     },
     "execution_count": 354,
     "metadata": {},
     "output_type": "execute_result"
    },
    {
     "data": {
      "image/png": "[encoded data removed]",
      "text/plain": [
       "<Figure size 432x288 with 1 Axes>"
      ]
     },
     "metadata": {
      "needs_background": "light"
     },
     "output_type": "display_data"
    }
   ],
   "source": [
    "plt.plot(sin_arr)"
   ]
  },
  {
   "cell_type": "code",
   "execution_count": null,
   "metadata": {},
   "outputs": [],
   "source": [
    "def single_lag_correlation_test_neg_corr(distance_arr, measure_arr, distance, distance_thresh):\n",
    "    \"\"\"\n",
    "    Test of above, unfinsished. Takes a 2D distance matrix that has the distances between each measurement\n",
    "    and a 1D array of the measurements. Distance is the center distance to correlate\n",
    "    on and the threshold is the range of distances from the center distance to use for \n",
    "    the correlation.\n",
    "    \"\"\"\n",
    "    \n",
    "    row_arr = np.tile(measure_arr, (len(measure_arr),1))\n",
    "    col_arr = np.tile(-1*measure_arr, (len(measure_arr),1)).T\n",
    "    \n",
    "    tril_distance_arr = np.tril(distance_arr)\n",
    "    cond = np.logical_and(((distance-distance_thresh) < tril_distance_arr), (tril_distance_arr < (distance+distance_thresh)))\n",
    "\n",
    "    col_vals = np.where(cond, col_arr, np.nan)\n",
    "    row_vals = np.where(cond, row_arr, np.nan)\n",
    "    \n",
    "    covariance = (np.nanmean((col_vals - np.nanmean(col_vals)) * (row_vals - np.nanmean(row_vals))))\n",
    "    print(\"# values used for correlation \" + str(np.count_nonzero(~np.isnan(col_vals))))\n",
    "    return covariance/(np.nanstd(col_vals)*np.nanstd(row_vals))"
   ]
  },
  {
   "cell_type": "markdown",
   "metadata": {},
   "source": [
    "Find the optimal sampling size for the distance threshold by doubling the length of the sin time sieres to see where the noise is interjected"
   ]
  },
  {
   "cell_type": "code",
   "execution_count": 342,
   "metadata": {},
   "outputs": [
    {
     "name": "stdout",
     "output_type": "stream",
     "text": [
      "# values used for correlation 753\n"
     ]
    },
    {
     "data": {
      "text/plain": [
       "0.01291142165237736"
      ]
     },
     "execution_count": 342,
     "metadata": {},
     "output_type": "execute_result"
    }
   ],
   "source": [
    "sin_arr = np.append(np.tile((np.sin(np.arange(30, 360, 30)*np.pi/180)), 9).flatten(), -.5)\n",
    "single_lag_correlation(distance_matrix, sin_arr, 20, 5)  "
   ]
  },
  {
   "cell_type": "code",
   "execution_count": 353,
   "metadata": {},
   "outputs": [
    {
     "data": {
      "text/plain": [
       "array([ 5.00000000e-01,  8.66025404e-01,  1.00000000e+00,  8.66025404e-01,\n",
       "        5.00000000e-01,  1.22464680e-16, -5.00000000e-01, -8.66025404e-01,\n",
       "       -1.00000000e+00, -8.66025404e-01, -5.00000000e-01,  5.00000000e-01,\n",
       "        8.66025404e-01,  1.00000000e+00,  8.66025404e-01,  5.00000000e-01,\n",
       "        1.22464680e-16, -5.00000000e-01, -8.66025404e-01, -1.00000000e+00,\n",
       "       -8.66025404e-01, -5.00000000e-01,  5.00000000e-01,  8.66025404e-01,\n",
       "        1.00000000e+00,  8.66025404e-01,  5.00000000e-01,  1.22464680e-16,\n",
       "       -5.00000000e-01, -8.66025404e-01, -1.00000000e+00, -8.66025404e-01,\n",
       "       -5.00000000e-01,  5.00000000e-01,  8.66025404e-01,  1.00000000e+00,\n",
       "        8.66025404e-01,  5.00000000e-01,  1.22464680e-16, -5.00000000e-01,\n",
       "       -8.66025404e-01, -1.00000000e+00, -8.66025404e-01, -5.00000000e-01,\n",
       "        5.00000000e-01,  8.66025404e-01,  1.00000000e+00,  8.66025404e-01,\n",
       "        5.00000000e-01,  1.22464680e-16, -5.00000000e-01, -8.66025404e-01,\n",
       "       -1.00000000e+00, -8.66025404e-01, -5.00000000e-01,  5.00000000e-01,\n",
       "        8.66025404e-01,  1.00000000e+00,  8.66025404e-01,  5.00000000e-01,\n",
       "        1.22464680e-16, -5.00000000e-01, -8.66025404e-01, -1.00000000e+00,\n",
       "       -8.66025404e-01, -5.00000000e-01,  5.00000000e-01,  8.66025404e-01,\n",
       "        1.00000000e+00,  8.66025404e-01,  5.00000000e-01,  1.22464680e-16,\n",
       "       -5.00000000e-01, -8.66025404e-01, -1.00000000e+00, -8.66025404e-01,\n",
       "       -5.00000000e-01,  5.00000000e-01,  8.66025404e-01,  1.00000000e+00,\n",
       "        8.66025404e-01,  5.00000000e-01,  1.22464680e-16, -5.00000000e-01,\n",
       "       -8.66025404e-01, -1.00000000e+00, -8.66025404e-01, -5.00000000e-01,\n",
       "        5.00000000e-01,  8.66025404e-01,  1.00000000e+00,  8.66025404e-01,\n",
       "        5.00000000e-01,  1.22464680e-16, -5.00000000e-01, -8.66025404e-01,\n",
       "       -1.00000000e+00, -8.66025404e-01, -5.00000000e-01, -5.00000000e-01])"
      ]
     },
     "execution_count": 353,
     "metadata": {},
     "output_type": "execute_result"
    }
   ],
   "source": [
    "sin_arr"
   ]
  },
  {
   "cell_type": "code",
   "execution_count": 343,
   "metadata": {},
   "outputs": [
    {
     "name": "stdout",
     "output_type": "stream",
     "text": [
      "# values used for correlation 31\n",
      "# values used for correlation 10\n",
      "# values used for correlation 15\n",
      "# values used for correlation 16\n",
      "# values used for correlation 13\n",
      "# values used for correlation 29\n",
      "# values used for correlation 14\n",
      "# values used for correlation 20\n",
      "# values used for correlation 16\n",
      "# values used for correlation 13\n",
      "# values used for correlation 23\n",
      "# values used for correlation 17\n",
      "# values used for correlation 18\n",
      "# values used for correlation 18\n",
      "# values used for correlation 23\n",
      "# values used for correlation 16\n",
      "# values used for correlation 24\n",
      "# values used for correlation 20\n",
      "# values used for correlation 9\n",
      "# values used for correlation 24\n",
      "# values used for correlation 18\n",
      "# values used for correlation 15\n",
      "# values used for correlation 16\n",
      "# values used for correlation 16\n",
      "# values used for correlation 13\n",
      "# values used for correlation 19\n",
      "# values used for correlation 17\n",
      "# values used for correlation 14\n",
      "# values used for correlation 19\n",
      "# values used for correlation 18\n",
      "# values used for correlation 20\n",
      "# values used for correlation 18\n",
      "# values used for correlation 13\n",
      "# values used for correlation 10\n",
      "# values used for correlation 17\n",
      "# values used for correlation 21\n",
      "# values used for correlation 20\n",
      "# values used for correlation 17\n",
      "# values used for correlation 13\n",
      "# values used for correlation 18\n",
      "# values used for correlation 16\n",
      "# values used for correlation 17\n",
      "# values used for correlation 24\n",
      "# values used for correlation 15\n",
      "# values used for correlation 13\n",
      "# values used for correlation 15\n",
      "# values used for correlation 19\n",
      "# values used for correlation 14\n",
      "# values used for correlation 16\n",
      "# values used for correlation 14\n",
      "# values used for correlation 10\n",
      "# values used for correlation 24\n",
      "# values used for correlation 15\n",
      "# values used for correlation 12\n",
      "# values used for correlation 10\n",
      "# values used for correlation 15\n",
      "# values used for correlation 25\n",
      "# values used for correlation 13\n",
      "# values used for correlation 16\n",
      "# values used for correlation 14\n",
      "# values used for correlation 9\n",
      "# values used for correlation 18\n",
      "# values used for correlation 15\n",
      "# values used for correlation 13\n",
      "# values used for correlation 11\n",
      "# values used for correlation 16\n",
      "# values used for correlation 9\n",
      "# values used for correlation 13\n",
      "# values used for correlation 18\n",
      "# values used for correlation 15\n",
      "# values used for correlation 12\n",
      "# values used for correlation 13\n",
      "# values used for correlation 15\n",
      "# values used for correlation 18\n",
      "# values used for correlation 20\n",
      "# values used for correlation 10\n",
      "# values used for correlation 11\n",
      "# values used for correlation 17\n",
      "# values used for correlation 11\n",
      "# values used for correlation 15\n",
      "# values used for correlation 17\n",
      "# values used for correlation 10\n",
      "# values used for correlation 11\n",
      "# values used for correlation 10\n",
      "# values used for correlation 22\n",
      "# values used for correlation 16\n",
      "# values used for correlation 10\n",
      "# values used for correlation 15\n",
      "# values used for correlation 13\n",
      "# values used for correlation 10\n",
      "# values used for correlation 11\n",
      "# values used for correlation 14\n",
      "# values used for correlation 10\n",
      "# values used for correlation 14\n",
      "# values used for correlation 15\n",
      "# values used for correlation 14\n",
      "# values used for correlation 13\n",
      "# values used for correlation 15\n",
      "# values used for correlation 10\n",
      "# values used for correlation 20\n",
      "# values used for correlation 17\n",
      "# values used for correlation 8\n",
      "# values used for correlation 10\n",
      "# values used for correlation 11\n",
      "# values used for correlation 12\n",
      "# values used for correlation 15\n",
      "# values used for correlation 14\n",
      "# values used for correlation 8\n",
      "# values used for correlation 7\n",
      "# values used for correlation 11\n",
      "# values used for correlation 14\n",
      "# values used for correlation 7\n",
      "# values used for correlation 14\n",
      "# values used for correlation 7\n",
      "# values used for correlation 16\n",
      "# values used for correlation 9\n",
      "# values used for correlation 10\n",
      "# values used for correlation 13\n",
      "# values used for correlation 9\n",
      "# values used for correlation 19\n",
      "# values used for correlation 14\n",
      "# values used for correlation 11\n",
      "# values used for correlation 24\n",
      "# values used for correlation 17\n",
      "# values used for correlation 8\n",
      "# values used for correlation 15\n",
      "# values used for correlation 12\n"
     ]
    }
   ],
   "source": [
    "def calculate_autocorrelations(distance_arr, measure_arr, distance_thresh, distance_min, distance_max, \n",
    "                               distance_increment):\n",
    "    \"\"\"Calculates the autocorrelations across the min and max distances by the distance increment\n",
    "    which should be at least 3 times the distance threshold. Returns a dictionary with the distances as\n",
    "    keys and the correlations as values.\"\"\"\n",
    "    corrs = {}\n",
    "    for i in np.arange(distance_min, distance_max, distance_increment):\n",
    "        corrs.update({i: single_lag_correlation(distance_arr, \n",
    "                    np.array(measure_arr), \n",
    "                    distance = i, distance_thresh = distance_thresh)})\n",
    "    df = pd.DataFrame(list(corrs.items()))\n",
    "    df.columns = ['distance','correlation']\n",
    "    return df\n",
    "df = calculate_autocorrelations(distance_matrix, sin_arr, \n",
    "                           distance_thresh=.1, distance_min = 2, distance_max = 40, distance_increment = .3)"
   ]
  },
  {
   "cell_type": "code",
   "execution_count": 344,
   "metadata": {},
   "outputs": [
    {
     "data": {
      "text/plain": [
       "<matplotlib.axes._subplots.AxesSubplot at 0x7f4aa4b616d8>"
      ]
     },
     "execution_count": 344,
     "metadata": {},
     "output_type": "execute_result"
    },
    {
     "data": {
      "image/png": "[encoded data removed]",
      "text/plain": [
       "<Figure size 432x288 with 1 Axes>"
      ]
     },
     "metadata": {
      "needs_background": "light"
     },
     "output_type": "display_data"
    }
   ],
   "source": [
    "df.plot(x = 'distance', y='correlation')"
   ]
  },
  {
   "cell_type": "code",
   "execution_count": 304,
   "metadata": {},
   "outputs": [
    {
     "name": "stdout",
     "output_type": "stream",
     "text": [
      "# values used for correlation 31\n",
      "# values used for correlation 10\n",
      "# values used for correlation 15\n",
      "# values used for correlation 16\n",
      "# values used for correlation 13\n",
      "# values used for correlation 29\n",
      "# values used for correlation 14\n",
      "# values used for correlation 20\n",
      "# values used for correlation 16\n",
      "# values used for correlation 13\n",
      "# values used for correlation 23\n",
      "# values used for correlation 17\n",
      "# values used for correlation 18\n",
      "# values used for correlation 18\n",
      "# values used for correlation 23\n",
      "# values used for correlation 16\n",
      "# values used for correlation 24\n",
      "# values used for correlation 20\n",
      "# values used for correlation 9\n",
      "# values used for correlation 24\n",
      "# values used for correlation 18\n",
      "# values used for correlation 15\n",
      "# values used for correlation 16\n",
      "# values used for correlation 16\n",
      "# values used for correlation 13\n",
      "# values used for correlation 19\n",
      "# values used for correlation 17\n",
      "# values used for correlation 14\n",
      "# values used for correlation 19\n",
      "# values used for correlation 18\n",
      "# values used for correlation 20\n",
      "# values used for correlation 18\n",
      "# values used for correlation 13\n",
      "# values used for correlation 10\n",
      "# values used for correlation 17\n",
      "# values used for correlation 21\n",
      "# values used for correlation 20\n",
      "# values used for correlation 17\n",
      "# values used for correlation 13\n",
      "# values used for correlation 18\n",
      "# values used for correlation 16\n",
      "# values used for correlation 17\n",
      "# values used for correlation 24\n",
      "# values used for correlation 15\n",
      "# values used for correlation 13\n",
      "# values used for correlation 15\n",
      "# values used for correlation 19\n",
      "# values used for correlation 14\n",
      "# values used for correlation 16\n",
      "# values used for correlation 14\n",
      "# values used for correlation 10\n",
      "# values used for correlation 24\n",
      "# values used for correlation 15\n",
      "# values used for correlation 12\n",
      "# values used for correlation 10\n",
      "# values used for correlation 15\n",
      "# values used for correlation 25\n",
      "# values used for correlation 13\n",
      "# values used for correlation 16\n",
      "# values used for correlation 14\n",
      "# values used for correlation 9\n",
      "# values used for correlation 18\n",
      "# values used for correlation 15\n",
      "# values used for correlation 13\n",
      "# values used for correlation 11\n",
      "# values used for correlation 16\n",
      "# values used for correlation 9\n",
      "# values used for correlation 13\n",
      "# values used for correlation 18\n",
      "# values used for correlation 15\n",
      "# values used for correlation 12\n",
      "# values used for correlation 13\n",
      "# values used for correlation 15\n",
      "# values used for correlation 18\n",
      "# values used for correlation 20\n",
      "# values used for correlation 10\n",
      "# values used for correlation 11\n",
      "# values used for correlation 17\n",
      "# values used for correlation 11\n",
      "# values used for correlation 15\n",
      "# values used for correlation 17\n",
      "# values used for correlation 10\n",
      "# values used for correlation 11\n",
      "# values used for correlation 10\n",
      "# values used for correlation 22\n",
      "# values used for correlation 16\n",
      "# values used for correlation 10\n",
      "# values used for correlation 15\n",
      "# values used for correlation 13\n",
      "# values used for correlation 10\n",
      "# values used for correlation 11\n",
      "# values used for correlation 14\n",
      "# values used for correlation 10\n",
      "# values used for correlation 14\n",
      "# values used for correlation 15\n",
      "# values used for correlation 14\n",
      "# values used for correlation 13\n",
      "# values used for correlation 15\n",
      "# values used for correlation 10\n",
      "# values used for correlation 20\n",
      "# values used for correlation 17\n",
      "# values used for correlation 8\n",
      "# values used for correlation 10\n",
      "# values used for correlation 11\n",
      "# values used for correlation 12\n",
      "# values used for correlation 15\n",
      "# values used for correlation 14\n",
      "# values used for correlation 8\n",
      "# values used for correlation 7\n",
      "# values used for correlation 11\n",
      "# values used for correlation 14\n",
      "# values used for correlation 7\n",
      "# values used for correlation 14\n",
      "# values used for correlation 7\n",
      "# values used for correlation 16\n",
      "# values used for correlation 9\n",
      "# values used for correlation 10\n",
      "# values used for correlation 13\n",
      "# values used for correlation 9\n",
      "# values used for correlation 19\n",
      "# values used for correlation 14\n",
      "# values used for correlation 11\n",
      "# values used for correlation 24\n",
      "# values used for correlation 17\n",
      "# values used for correlation 8\n",
      "# values used for correlation 15\n",
      "# values used for correlation 12\n"
     ]
    },
    {
     "data": {
      "image/png": "[encoded data removed]",
      "text/plain": [
       "<Figure size 432x288 with 1 Axes>"
      ]
     },
     "metadata": {
      "needs_background": "light"
     },
     "output_type": "display_data"
    }
   ],
   "source": [
    "def test_autocorr_random():\n",
    "    x = np.random.rand(100)\n",
    "    df = calculate_autocorrelations(distance_matrix, np.random.rand(100), \n",
    "                           distance_thresh=.1, distance_min = 2, \n",
    "                           distance_max = 40, distance_increment = .3)\n",
    "    df.plot(x = 'distance', y='correlation')\n",
    "test_autocorr_random()"
   ]
  },
  {
   "cell_type": "code",
   "execution_count": 173,
   "metadata": {},
   "outputs": [
    {
     "data": {
      "text/plain": [
       "-1.0"
      ]
     },
     "execution_count": 173,
     "metadata": {},
     "output_type": "execute_result"
    }
   ],
   "source": [
    "def test_random_corr():\n",
    "    x = np.random.rand(100)\n",
    "    y = -1*x\n",
    "\n",
    "    covariance = (np.nanmean((x - np.nanmean(x)) * (y - np.nanmean(y))))\n",
    "    return covariance/(np.nanstd(x)*np.nanstd(y))\n",
    "test_random_corr()"
   ]
  },
  {
   "cell_type": "markdown",
   "metadata": {},
   "source": [
    "### Soil Mositure Histogram"
   ]
  },
  {
   "cell_type": "code",
   "execution_count": 7,
   "metadata": {},
   "outputs": [
    {
     "data": {
      "text/plain": [
       "<matplotlib.axes._subplots.AxesSubplot at 0x7f4aaad2e588>"
      ]
     },
     "execution_count": 7,
     "metadata": {},
     "output_type": "execute_result"
    },
    {
     "data": {
      "image/png": "[encoded data removed]",
      "text/plain": [
       "<Figure size 432x288 with 1 Axes>"
      ]
     },
     "metadata": {
      "needs_background": "light"
     },
     "output_type": "display_data"
    }
   ],
   "source": [
    "north_slope_soil_moisture['Soil Moisture ()'].hist(bins=30)"
   ]
  },
  {
   "cell_type": "code",
   "execution_count": null,
   "metadata": {},
   "outputs": [],
   "source": []
  },
  {
   "cell_type": "code",
   "execution_count": null,
   "metadata": {},
   "outputs": [],
   "source": []
  },
  {
   "cell_type": "code",
   "execution_count": null,
   "metadata": {},
   "outputs": [],
   "source": []
  },
  {
   "cell_type": "code",
   "execution_count": null,
   "metadata": {},
   "outputs": [],
   "source": []
  }
 ],
 "metadata": {
  "kernelspec": {
   "display_name": "Python [conda env:geo]",
   "language": "python",
   "name": "conda-env-geo-py"
  },
  "language_info": {
   "codemirror_mode": {
    "name": "ipython",
    "version": 3
   },
   "file_extension": ".py",
   "mimetype": "text/x-python",
   "name": "python",
   "nbconvert_exporter": "python",
   "pygments_lexer": "ipython3",
   "version": "3.6.7"
  }
 },
 "nbformat": 4,
 "nbformat_minor": 2
}
