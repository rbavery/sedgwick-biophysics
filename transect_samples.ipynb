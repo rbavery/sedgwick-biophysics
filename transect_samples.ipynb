{
 "cells": [
  {
   "cell_type": "code",
   "execution_count": 21,
   "metadata": {},
   "outputs": [],
   "source": [
    "import random as ra\n",
    "import numpy as np\n",
    "\n",
    "\n"
   ]
  },
  {
   "cell_type": "code",
   "execution_count": 26,
   "metadata": {},
   "outputs": [
    {
     "data": {
      "text/plain": [
       "2001"
      ]
     },
     "execution_count": 26,
     "metadata": {},
     "output_type": "execute_result"
    }
   ],
   "source": [
    "len(transect_100)"
   ]
  },
  {
   "cell_type": "code",
   "execution_count": 114,
   "metadata": {},
   "outputs": [
    {
     "data": {
      "text/plain": [
       "array([0.000e+00, 5.000e+00, 1.000e+01, ..., 9.990e+03, 9.995e+03,\n",
       "       1.000e+04])"
      ]
     },
     "execution_count": 114,
     "metadata": {},
     "output_type": "execute_result"
    }
   ],
   "source": [
    "np.array(list(np.arange(0, 1+100*100/5, 1)))*5"
   ]
  },
  {
   "cell_type": "code",
   "execution_count": 122,
   "metadata": {},
   "outputs": [],
   "source": [
    "def get_transect_sample(transect_size, sample_size, transect_id):\n",
    "    \"\"\"\n",
    "    Takes a sample for a transect.\n",
    "    Transect size is in units of meters.\n",
    "    Returns a list with values in units of centimeters.\n",
    "    \"\"\"\n",
    "    transect = list(np.arange(0, 1+transect_size*100/5, 1))\n",
    "    print(\"Transect #\"+str(transect_id))\n",
    "    return np.array(sorted(np.array(ra.sample(transect, sample_size))*5/100))"
   ]
  },
  {
   "cell_type": "code",
   "execution_count": 131,
   "metadata": {},
   "outputs": [
    {
     "name": "stdout",
     "output_type": "stream",
     "text": [
      "Transect #6\n"
     ]
    },
    {
     "data": {
      "text/plain": [
       "array([ 1.8 ,  2.4 ,  2.95,  3.4 ,  3.7 ,  4.75,  7.6 , 11.4 , 13.1 ,\n",
       "       13.5 , 15.55, 15.7 , 16.6 , 16.75, 18.5 , 18.8 , 21.2 , 22.5 ,\n",
       "       22.9 , 29.6 , 34.4 , 37.35, 37.65, 38.55, 43.85, 44.25, 45.6 ,\n",
       "       46.7 , 48.55, 50.9 , 60.35, 60.55, 61.3 , 62.1 , 63.  , 63.4 ,\n",
       "       64.5 , 67.05, 67.7 , 71.95, 75.6 , 77.45, 79.25, 87.1 , 87.65,\n",
       "       89.8 , 92.2 , 92.95, 96.45, 97.95])"
      ]
     },
     "execution_count": 131,
     "metadata": {},
     "output_type": "execute_result"
    }
   ],
   "source": [
    "get_transect_sample(100, 50, 6)"
   ]
  }
 ],
 "metadata": {
  "kernelspec": {
   "display_name": "Python [conda env:anaconda3]",
   "language": "python",
   "name": "conda-env-anaconda3-py"
  },
  "language_info": {
   "codemirror_mode": {
    "name": "ipython",
    "version": 3
   },
   "file_extension": ".py",
   "mimetype": "text/x-python",
   "name": "python",
   "nbconvert_exporter": "python",
   "pygments_lexer": "ipython3",
   "version": "3.6.8"
  }
 },
 "nbformat": 4,
 "nbformat_minor": 2
}
